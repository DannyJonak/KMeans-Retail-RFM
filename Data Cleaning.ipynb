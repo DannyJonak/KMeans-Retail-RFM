{
 "cells": [
  {
   "cell_type": "markdown",
   "id": "5a9c3614",
   "metadata": {},
   "source": [
    "# Cleaning RFM Online Retail Data"
   ]
  },
  {
   "cell_type": "markdown",
   "id": "8dafd36f",
   "metadata": {},
   "source": [
    "Import Required Libraries"
   ]
  },
  {
   "cell_type": "code",
   "execution_count": 1,
   "id": "ee0bff00",
   "metadata": {},
   "outputs": [],
   "source": [
    "import pandas as pd\n",
    "import numpy as np\n",
    "import mysql.connector\n",
    "import configparser\n",
    "import re"
   ]
  },
  {
   "cell_type": "markdown",
   "id": "6ae33629",
   "metadata": {},
   "source": [
    "Connect to local database and read Online Retail data into a pandas dataframe, df."
   ]
  },
  {
   "cell_type": "code",
   "execution_count": 2,
   "id": "6f42e774",
   "metadata": {},
   "outputs": [],
   "source": [
    "#get connection details from a configuration file\n",
    "config = configparser.ConfigParser()\n",
    "config.read('nb.cfg')\n",
    "\n",
    "\n",
    "try:\n",
    "    #connect to database\n",
    "    connection = mysql.connector.connect(host=config['mysql']['host'], database=config['mysql']['database'],\\\n",
    "                                         user=config['mysql']['user'], password=config['mysql']['password'])\n",
    "\n",
    "    #read onlineretail data to a pandas dataframe\n",
    "    get_data = \"SELECT * FROM onlineretail;\"\n",
    "    df = pd.read_sql(get_data, connection)\n",
    "    connection.close()\n",
    "\n",
    "except Exception as e:\n",
    "    connection.close()\n",
    "    print(str(e))\n"
   ]
  },
  {
   "cell_type": "markdown",
   "id": "5e41718d",
   "metadata": {},
   "source": [
    "Check the datatypes of each column in df."
   ]
  },
  {
   "cell_type": "code",
   "execution_count": 3,
   "id": "4eda6727",
   "metadata": {},
   "outputs": [
    {
     "name": "stdout",
     "output_type": "stream",
     "text": [
      "invoiceno       object\n",
      "stockcode       object\n",
      "description     object\n",
      "quantity         int64\n",
      "invoicedate     object\n",
      "unitprice      float64\n",
      "customerid     float64\n",
      "country         object\n",
      "dtype: object\n"
     ]
    }
   ],
   "source": [
    "print(df.dtypes)"
   ]
  },
  {
   "cell_type": "markdown",
   "id": "550fcee4",
   "metadata": {},
   "source": [
    "We see that quantity, unitprice, and customerid are all numerical quantities."
   ]
  },
  {
   "cell_type": "markdown",
   "id": "fcb07d92",
   "metadata": {},
   "source": [
    "Find columns that contain null values."
   ]
  },
  {
   "cell_type": "code",
   "execution_count": 4,
   "id": "7b2f72f9",
   "metadata": {},
   "outputs": [
    {
     "name": "stdout",
     "output_type": "stream",
     "text": [
      "invoiceno      False\n",
      "stockcode      False\n",
      "description     True\n",
      "quantity       False\n",
      "invoicedate    False\n",
      "unitprice      False\n",
      "customerid      True\n",
      "country        False\n",
      "dtype: bool\n"
     ]
    }
   ],
   "source": [
    "print(df.isnull().any())"
   ]
  },
  {
   "cell_type": "markdown",
   "id": "543234eb",
   "metadata": {},
   "source": [
    "Note that only description and customerid contain null values. For the purpose of my RFM analysis the null values in description are not concerning. The entries with null as customerid are removed. "
   ]
  },
  {
   "cell_type": "code",
   "execution_count": 5,
   "id": "f0a2373a",
   "metadata": {},
   "outputs": [],
   "source": [
    "df = df.dropna(axis=0, subset=['customerid'])"
   ]
  },
  {
   "cell_type": "markdown",
   "id": "a52fe631",
   "metadata": {},
   "source": [
    "Check for null values again."
   ]
  },
  {
   "cell_type": "code",
   "execution_count": 6,
   "id": "b71def22",
   "metadata": {},
   "outputs": [
    {
     "name": "stdout",
     "output_type": "stream",
     "text": [
      "invoiceno      False\n",
      "stockcode      False\n",
      "description    False\n",
      "quantity       False\n",
      "invoicedate    False\n",
      "unitprice      False\n",
      "customerid     False\n",
      "country        False\n",
      "dtype: bool\n"
     ]
    }
   ],
   "source": [
    "print(df.isnull().any())"
   ]
  },
  {
   "cell_type": "markdown",
   "id": "df976ada",
   "metadata": {},
   "source": [
    "Check for potentially problematic entries in quantity, invoicedate, and unitprice."
   ]
  },
  {
   "cell_type": "code",
   "execution_count": 7,
   "id": "f9ce1702",
   "metadata": {},
   "outputs": [
    {
     "name": "stdout",
     "output_type": "stream",
     "text": [
      "Total negative Quantities:  8905\n",
      "Proportion of Negative Quantities: 0.021888803403887137\n",
      "Total negative Unit Prices:  0\n",
      "Proportion of Negative Unit Prices: 0.0\n"
     ]
    }
   ],
   "source": [
    "print('Total negative Quantities: ', len(df.loc[df['quantity'] < 0]))\n",
    "print('Proportion of Negative Quantities: ' + str(len(df.loc[df['quantity'] < 0])/len(df)))\n",
    "print('Total negative Unit Prices: ', len(df.loc[df['unitprice'] < 0]))\n",
    "print('Proportion of Negative Unit Prices: ' + str(len(df.loc[df['unitprice'] < 0])/len(df)))"
   ]
  },
  {
   "cell_type": "code",
   "execution_count": 8,
   "id": "8ea8f41a",
   "metadata": {
    "scrolled": true
   },
   "outputs": [
    {
     "name": "stdout",
     "output_type": "stream",
     "text": [
      "    invoiceno stockcode                       description  quantity  \\\n",
      "141   C536379         D                          Discount        -1   \n",
      "154   C536383    35004C   SET OF 3 COLOURED  FLYING DUCKS        -1   \n",
      "235   C536391     22556    PLASTERS IN TIN CIRCUS PARADE        -12   \n",
      "236   C536391     21984  PACK OF 12 PINK PAISLEY TISSUES        -24   \n",
      "237   C536391     21983  PACK OF 12 BLUE PAISLEY TISSUES        -24   \n",
      "\n",
      "         invoicedate  unitprice  customerid         country  \n",
      "141   12/1/2010 9:41      27.50     14527.0  United Kingdom  \n",
      "154   12/1/2010 9:49       4.65     15311.0  United Kingdom  \n",
      "235  12/1/2010 10:24       1.65     17548.0  United Kingdom  \n",
      "236  12/1/2010 10:24       0.29     17548.0  United Kingdom  \n",
      "237  12/1/2010 10:24       0.29     17548.0  United Kingdom  \n"
     ]
    }
   ],
   "source": [
    "print(df.loc[df['quantity'] < 0].head())"
   ]
  },
  {
   "cell_type": "markdown",
   "id": "2259d160",
   "metadata": {},
   "source": [
    "Both quantities contains negative values, but the quantities with negative values make up a small proportion of our data. Looking at the data, rows with negative quantiteies seem to be returns, and have a differently formated invoice numbers that contain the letter 'C'. For the purpose of this project I'll treat them as returns, and will not include them in the rfm analysis.\n",
    "The data also includes other rows which have negative quantity. I will remove these as well.\n",
    "Some enties also have 0 unit price, I'm not sure if this is a mistake, or intentional (e.g. a promotion). I'll leave these entries for now."
   ]
  },
  {
   "cell_type": "markdown",
   "id": "4462e9ea",
   "metadata": {},
   "source": [
    "Remove rows with negative quantity since we do not want to include returns."
   ]
  },
  {
   "cell_type": "code",
   "execution_count": 57,
   "id": "dbba4d12",
   "metadata": {},
   "outputs": [],
   "source": [
    "df = df.loc[df['quantity'] > 0]"
   ]
  },
  {
   "cell_type": "markdown",
   "id": "4fcbbccd",
   "metadata": {},
   "source": [
    "Verify that the negative quantities have been removed. "
   ]
  },
  {
   "cell_type": "code",
   "execution_count": 58,
   "id": "57d67dd4",
   "metadata": {},
   "outputs": [
    {
     "name": "stdout",
     "output_type": "stream",
     "text": [
      "Total negative Quantities:  0\n"
     ]
    }
   ],
   "source": [
    "print('Total negative Quantities: ', len(df.loc[df['quantity'] < 0]))"
   ]
  },
  {
   "cell_type": "markdown",
   "id": "aa60f2a6",
   "metadata": {},
   "source": [
    "Filter for any invoicedates that are not formatted like '(m)m/(d)d/yyyy (h)h:mm'."
   ]
  },
  {
   "cell_type": "code",
   "execution_count": 59,
   "id": "2db6bde1",
   "metadata": {},
   "outputs": [
    {
     "name": "stdout",
     "output_type": "stream",
     "text": [
      "Total imporperly formatted dates:  Empty DataFrame\n",
      "Columns: [invoiceno, stockcode, description, quantity, invoicedate, unitprice, customerid, country]\n",
      "Index: []\n"
     ]
    }
   ],
   "source": [
    "if df.invoicedate.dtype != 'datetime64[ns]':\n",
    "    #format 'mm/dd/yyyy hh:mm' as regular expression\n",
    "    format = r'^([1-9]|1[0-2])/([1-9]|1[0-9]|2[0-9]|3[0,1])/(20[0-1][0-9]|202[0-2])\\s([1-9]|1[0-9]|2[0-3])\\:[0-5][0-9]$'\n",
    "    print('Total imporperly formatted dates: ', df[[not bool(re.match(format, x)) for x in df['invoicedate']]])"
   ]
  },
  {
   "cell_type": "markdown",
   "id": "ecd76e62",
   "metadata": {},
   "source": [
    "Convert invoicedates to datetime formats, catch an exception for invalid dates. \n",
    "ex. '2/30/2020 8:30' (February 30th) is invalid"
   ]
  },
  {
   "cell_type": "code",
   "execution_count": 60,
   "id": "b3064153",
   "metadata": {},
   "outputs": [
    {
     "name": "stdout",
     "output_type": "stream",
     "text": [
      "All dates in invoicedate are valid!\n"
     ]
    }
   ],
   "source": [
    "try:\n",
    "    df['invoicedate'] = pd.to_datetime(df['invoicedate'], format='%m/%d/%Y %H:%M')\n",
    "    print(\"All dates in invoicedate are valid!\")\n",
    "except Exception as e:\n",
    "    print(str(e))\n",
    "    print(\"Invoicedate contains invalid dates!\")"
   ]
  },
  {
   "cell_type": "markdown",
   "id": "cc92d770",
   "metadata": {},
   "source": [
    "Replace np.Nan objects with None type objects, and split df into chunks to facilitate uploading into database."
   ]
  },
  {
   "cell_type": "code",
   "execution_count": 61,
   "id": "fd8eb3a8",
   "metadata": {},
   "outputs": [],
   "source": [
    "df = df.replace({np.nan: None})\n",
    "\n",
    "chunks = [df.iloc[5000*i:min(5000*(i + 1), len(df))] for i in range(len(df)//5000 + 1)]\n",
    "del df"
   ]
  },
  {
   "cell_type": "markdown",
   "id": "b1ab6d83",
   "metadata": {},
   "source": [
    "Connect to database. Create table to store cleaned data and replace old onlineretail table. Create table to compute and store recency, frequency, and monetary data for each customer."
   ]
  },
  {
   "cell_type": "code",
   "execution_count": 63,
   "id": "bb6a6034",
   "metadata": {},
   "outputs": [],
   "source": [
    "#connect to database\n",
    "try:\n",
    "    connection = mysql.connector.connect(host=config['mysql']['host'], database=config['mysql']['database'],\\\n",
    "                                         user=config['mysql']['user'], password=config['mysql']['password'])\n",
    "    curr = connection.cursor()\n",
    "\n",
    "    #create temporary table to store df\n",
    "    curr.execute(\"DROP TABLE IF EXISTS onlineretail_temp;\")\n",
    "    query = \"\"\"\n",
    "                CREATE TABLE onlineretail_temp (invoiceno varchar(20),\n",
    "                                                stockcode varchar(20),\n",
    "                                                description text,\n",
    "                                                quantity int,\n",
    "                                                invoicedate datetime,\n",
    "                                                unitprice double(12,2),\n",
    "                                                customerid int,\n",
    "                                                country varchar(20));\n",
    "            \"\"\"\n",
    "            \n",
    "    curr.execute(query)\n",
    "\n",
    "    #iterate through chunks of df \n",
    "    for chunk in chunks:\n",
    "\n",
    "        #insert data into onlineretail_temp table\n",
    "        sql = \"insert into onlineretail_temp (%s) values \" % (\", \".join(chunk.columns)) + \"(\" + \"%s, \"*(len(chunk.columns) - 1) + \"%s\" + \");\"\n",
    "        curr.executemany(sql, chunk.values.tolist())\n",
    "        connection.commit()\n",
    "\n",
    "    #remove table onlineretail and rename onlineretail_temp as onlineretail\n",
    "    curr.execute(\"DROP TABLE IF EXISTS onlineretail;\")\n",
    "    curr.execute(\"ALTER TABLE onlineretail_temp RENAME TO onlineretail;\")\n",
    "    connection.commit()\n",
    "\n",
    "    #create a table for our consumer rfm data\n",
    "    curr.execute(\"DROP TABLE IF EXISTS consumer_rfm;\")\n",
    "    create_rfm_data = \"\"\"\n",
    "                    CREATE TABLE consumer_rfm AS\n",
    "                    SELECT customerid,\n",
    "                    datediff(date_add((select max(invoicedate) from onlineretail), INTERVAL 1 DAY), max(invoicedate)) recency,\n",
    "                    count(DISTINCT invoiceno) frequency,\n",
    "                    sum(quantity * unitprice) monetary\n",
    "                    from onlineretail\n",
    "                    group by customerid; \n",
    "                \"\"\"\n",
    "\n",
    "    create_primary_key = \"\"\"\n",
    "                    ALTER TABLE consumer_rfm\n",
    "                    ADD CONSTRAINT pk_customerid PRIMARY KEY (customerid);\n",
    "                \"\"\"\n",
    "\n",
    "    curr.execute(create_rfm_data)\n",
    "    curr.execute(create_primary_key)\n",
    "    connection.commit()\n",
    "    connection.close()\n",
    "except Exception as e:\n",
    "    connection.close()\n",
    "    print(str(e))"
   ]
  }
 ],
 "metadata": {
  "kernelspec": {
   "display_name": "Python 3 (ipykernel)",
   "language": "python",
   "name": "python3"
  },
  "language_info": {
   "codemirror_mode": {
    "name": "ipython",
    "version": 3
   },
   "file_extension": ".py",
   "mimetype": "text/x-python",
   "name": "python",
   "nbconvert_exporter": "python",
   "pygments_lexer": "ipython3",
   "version": "3.8.9"
  }
 },
 "nbformat": 4,
 "nbformat_minor": 5
}
